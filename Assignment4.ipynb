{
 "cells": [
  {
   "cell_type": "code",
   "execution_count": 304,
   "metadata": {
    "collapsed": true,
    "ExecuteTime": {
     "start_time": "2023-06-22T17:01:47.239989Z",
     "end_time": "2023-06-22T17:01:47.308973Z"
    }
   },
   "outputs": [],
   "source": [
    "import math\n",
    "import numpy as np\n",
    "import pandas as pd\n",
    "from sklearn import preprocessing\n",
    "from sklearn.model_selection import train_test_split\n",
    "from matplotlib import pyplot as plt\n",
    "from pylab import *\n",
    "from scipy.optimize import fmin\n",
    "import seaborn as sns\n",
    "from sklearn.preprocessing import LabelEncoder\n",
    "from sklearn.feature_selection import mutual_info_classif\n",
    "from sklearn.tree import DecisionTreeClassifier\n",
    "from sklearn.metrics import accuracy_score\n",
    "from sklearn.ensemble import RandomForestClassifier"
   ]
  },
  {
   "cell_type": "markdown",
   "source": [
    "### Get dataset from file and inspect 5 rows"
   ],
   "metadata": {
    "collapsed": false
   }
  },
  {
   "cell_type": "code",
   "execution_count": 305,
   "outputs": [
    {
     "name": "stderr",
     "output_type": "stream",
     "text": [
      "C:\\Users\\Hooman\\AppData\\Local\\Temp\\ipykernel_16624\\1880295637.py:2: DtypeWarning: Columns (10) have mixed types. Specify dtype option on import or set low_memory=False.\n",
      "  diabetes_df = pd.read_csv('diabetes_dataset_updated.csv')\n"
     ]
    },
    {
     "data": {
      "text/plain": "   e+A1:AP1ncounter_id  patient_nbr             race  gender      age weight  \\\n0              2278392      8222157        Caucasian  Female   [0-10)    NaN   \n1               149190     55629189        Caucasian  Female  [10-20)    NaN   \n2                64410     86047875  AfricanAmerican  Female  [20-30)    NaN   \n3               500364     82442376        Caucasian    Male  [30-40)    NaN   \n4                16680     42519267        Caucasian    Male  [40-50)    NaN   \n\n   admission_type_id  discharge_disposition_id  admission_source_id  \\\n0                  6                        25                    1   \n1                  1                         1                    7   \n2                  1                         1                    7   \n3                  1                         1                    7   \n4                  1                         1                    7   \n\n   time_in_hospital  ... citoglipton insulin  glyburide-metformin  \\\n0                 1  ...          No      No                   No   \n1                 3  ...          No      Up                   No   \n2                 2  ...          No      No                   No   \n3                 2  ...          No      Up                   No   \n4                 1  ...          No  Steady                   No   \n\n   glipizide-metformin  glimepiride-pioglitazone  metformin-rosiglitazone  \\\n0                   No                        No                       No   \n1                   No                        No                       No   \n2                   No                        No                       No   \n3                   No                        No                       No   \n4                   No                        No                       No   \n\n   metformin-pioglitazone  change diabetesMed readmitted  \n0                      No      No          No         NO  \n1                      No      Ch         Yes        >30  \n2                      No      No         Yes         NO  \n3                      No      Ch         Yes         NO  \n4                      No      Ch         Yes         NO  \n\n[5 rows x 50 columns]",
      "text/html": "<div>\n<style scoped>\n    .dataframe tbody tr th:only-of-type {\n        vertical-align: middle;\n    }\n\n    .dataframe tbody tr th {\n        vertical-align: top;\n    }\n\n    .dataframe thead th {\n        text-align: right;\n    }\n</style>\n<table border=\"1\" class=\"dataframe\">\n  <thead>\n    <tr style=\"text-align: right;\">\n      <th></th>\n      <th>e+A1:AP1ncounter_id</th>\n      <th>patient_nbr</th>\n      <th>race</th>\n      <th>gender</th>\n      <th>age</th>\n      <th>weight</th>\n      <th>admission_type_id</th>\n      <th>discharge_disposition_id</th>\n      <th>admission_source_id</th>\n      <th>time_in_hospital</th>\n      <th>...</th>\n      <th>citoglipton</th>\n      <th>insulin</th>\n      <th>glyburide-metformin</th>\n      <th>glipizide-metformin</th>\n      <th>glimepiride-pioglitazone</th>\n      <th>metformin-rosiglitazone</th>\n      <th>metformin-pioglitazone</th>\n      <th>change</th>\n      <th>diabetesMed</th>\n      <th>readmitted</th>\n    </tr>\n  </thead>\n  <tbody>\n    <tr>\n      <th>0</th>\n      <td>2278392</td>\n      <td>8222157</td>\n      <td>Caucasian</td>\n      <td>Female</td>\n      <td>[0-10)</td>\n      <td>NaN</td>\n      <td>6</td>\n      <td>25</td>\n      <td>1</td>\n      <td>1</td>\n      <td>...</td>\n      <td>No</td>\n      <td>No</td>\n      <td>No</td>\n      <td>No</td>\n      <td>No</td>\n      <td>No</td>\n      <td>No</td>\n      <td>No</td>\n      <td>No</td>\n      <td>NO</td>\n    </tr>\n    <tr>\n      <th>1</th>\n      <td>149190</td>\n      <td>55629189</td>\n      <td>Caucasian</td>\n      <td>Female</td>\n      <td>[10-20)</td>\n      <td>NaN</td>\n      <td>1</td>\n      <td>1</td>\n      <td>7</td>\n      <td>3</td>\n      <td>...</td>\n      <td>No</td>\n      <td>Up</td>\n      <td>No</td>\n      <td>No</td>\n      <td>No</td>\n      <td>No</td>\n      <td>No</td>\n      <td>Ch</td>\n      <td>Yes</td>\n      <td>&gt;30</td>\n    </tr>\n    <tr>\n      <th>2</th>\n      <td>64410</td>\n      <td>86047875</td>\n      <td>AfricanAmerican</td>\n      <td>Female</td>\n      <td>[20-30)</td>\n      <td>NaN</td>\n      <td>1</td>\n      <td>1</td>\n      <td>7</td>\n      <td>2</td>\n      <td>...</td>\n      <td>No</td>\n      <td>No</td>\n      <td>No</td>\n      <td>No</td>\n      <td>No</td>\n      <td>No</td>\n      <td>No</td>\n      <td>No</td>\n      <td>Yes</td>\n      <td>NO</td>\n    </tr>\n    <tr>\n      <th>3</th>\n      <td>500364</td>\n      <td>82442376</td>\n      <td>Caucasian</td>\n      <td>Male</td>\n      <td>[30-40)</td>\n      <td>NaN</td>\n      <td>1</td>\n      <td>1</td>\n      <td>7</td>\n      <td>2</td>\n      <td>...</td>\n      <td>No</td>\n      <td>Up</td>\n      <td>No</td>\n      <td>No</td>\n      <td>No</td>\n      <td>No</td>\n      <td>No</td>\n      <td>Ch</td>\n      <td>Yes</td>\n      <td>NO</td>\n    </tr>\n    <tr>\n      <th>4</th>\n      <td>16680</td>\n      <td>42519267</td>\n      <td>Caucasian</td>\n      <td>Male</td>\n      <td>[40-50)</td>\n      <td>NaN</td>\n      <td>1</td>\n      <td>1</td>\n      <td>7</td>\n      <td>1</td>\n      <td>...</td>\n      <td>No</td>\n      <td>Steady</td>\n      <td>No</td>\n      <td>No</td>\n      <td>No</td>\n      <td>No</td>\n      <td>No</td>\n      <td>Ch</td>\n      <td>Yes</td>\n      <td>NO</td>\n    </tr>\n  </tbody>\n</table>\n<p>5 rows × 50 columns</p>\n</div>"
     },
     "execution_count": 305,
     "metadata": {},
     "output_type": "execute_result"
    }
   ],
   "source": [
    "# diabetes_df = pd.read_csv('dataset_diabetes/diabetic_data.csv')\n",
    "diabetes_df = pd.read_csv('diabetes_dataset_updated.csv')\n",
    "# print(diabetes_df.head())\n",
    "diabetes_df.head()"
   ],
   "metadata": {
    "collapsed": false,
    "ExecuteTime": {
     "start_time": "2023-06-22T17:01:47.251663Z",
     "end_time": "2023-06-22T17:01:47.553259Z"
    }
   }
  },
  {
   "cell_type": "markdown",
   "source": [
    "### Print summary of dataset columns"
   ],
   "metadata": {
    "collapsed": false
   }
  },
  {
   "cell_type": "code",
   "execution_count": 306,
   "outputs": [
    {
     "name": "stdout",
     "output_type": "stream",
     "text": [
      "<class 'pandas.core.frame.DataFrame'>\n",
      "RangeIndex: 101766 entries, 0 to 101765\n",
      "Data columns (total 50 columns):\n",
      " #   Column                    Non-Null Count   Dtype \n",
      "---  ------                    --------------   ----- \n",
      " 0   e+A1:AP1ncounter_id       101766 non-null  int64 \n",
      " 1   patient_nbr               101766 non-null  int64 \n",
      " 2   race                      99493 non-null   object\n",
      " 3   gender                    101766 non-null  object\n",
      " 4   age                       101766 non-null  object\n",
      " 5   weight                    3197 non-null    object\n",
      " 6   admission_type_id         101766 non-null  int64 \n",
      " 7   discharge_disposition_id  101766 non-null  int64 \n",
      " 8   admission_source_id       101766 non-null  int64 \n",
      " 9   time_in_hospital          101766 non-null  int64 \n",
      " 10  payer_code                61510 non-null   object\n",
      " 11  medical_specialty         51817 non-null   object\n",
      " 12  num_lab_procedures        101766 non-null  int64 \n",
      " 13  num_procedures            101766 non-null  int64 \n",
      " 14  num_medications           101766 non-null  int64 \n",
      " 15  number_outpatient         101766 non-null  int64 \n",
      " 16  number_emergency          101766 non-null  int64 \n",
      " 17  number_inpatient          101766 non-null  int64 \n",
      " 18  diag_1                    101745 non-null  object\n",
      " 19  diag_2                    101408 non-null  object\n",
      " 20  diag_3                    100343 non-null  object\n",
      " 21  number_diagnoses          101766 non-null  int64 \n",
      " 22  max_glu_serum             101766 non-null  object\n",
      " 23  A1Cresult                 101766 non-null  object\n",
      " 24  metformin                 101766 non-null  object\n",
      " 25  repaglinide               101766 non-null  object\n",
      " 26  nateglinide               101766 non-null  object\n",
      " 27  chlorpropamide            101766 non-null  object\n",
      " 28  glimepiride               101766 non-null  object\n",
      " 29  acetohexamide             101766 non-null  object\n",
      " 30  glipizide                 101766 non-null  object\n",
      " 31  glyburide                 101766 non-null  object\n",
      " 32  tolbutamide               101766 non-null  object\n",
      " 33  pioglitazone              101766 non-null  object\n",
      " 34  rosiglitazone             101766 non-null  object\n",
      " 35  acarbose                  101766 non-null  object\n",
      " 36  miglitol                  101766 non-null  object\n",
      " 37  troglitazone              101766 non-null  object\n",
      " 38  tolazamide                101766 non-null  object\n",
      " 39  examide                   101766 non-null  object\n",
      " 40  citoglipton               101766 non-null  object\n",
      " 41  insulin                   101766 non-null  object\n",
      " 42  glyburide-metformin       101766 non-null  object\n",
      " 43  glipizide-metformin       101766 non-null  object\n",
      " 44  glimepiride-pioglitazone  101766 non-null  object\n",
      " 45  metformin-rosiglitazone   101766 non-null  object\n",
      " 46  metformin-pioglitazone    101766 non-null  object\n",
      " 47  change                    101766 non-null  object\n",
      " 48  diabetesMed               101766 non-null  object\n",
      " 49  readmitted                101766 non-null  object\n",
      "dtypes: int64(13), object(37)\n",
      "memory usage: 38.8+ MB\n",
      "None\n"
     ]
    }
   ],
   "source": [
    "print(diabetes_df.info())"
   ],
   "metadata": {
    "collapsed": false,
    "ExecuteTime": {
     "start_time": "2023-06-22T17:01:47.549269Z",
     "end_time": "2023-06-22T17:01:47.876614Z"
    }
   }
  },
  {
   "cell_type": "markdown",
   "source": [
    "### Handling missing data (? should turned into null)"
   ],
   "metadata": {
    "collapsed": false
   }
  },
  {
   "cell_type": "code",
   "execution_count": 307,
   "outputs": [],
   "source": [
    "# diabetes_df.replace('?', None, inplace=True)\n",
    "# updated_dataset_file = 'diabetes_dataset_updated.csv'\n",
    "# diabetes_df.to_csv(updated_dataset_file, index=False)\n",
    "# diabetes_df.head()"
   ],
   "metadata": {
    "collapsed": false,
    "ExecuteTime": {
     "start_time": "2023-06-22T17:01:47.879616Z",
     "end_time": "2023-06-22T17:01:47.922982Z"
    }
   }
  },
  {
   "cell_type": "markdown",
   "source": [
    "### Check for missing data"
   ],
   "metadata": {
    "collapsed": false
   }
  },
  {
   "cell_type": "code",
   "execution_count": 308,
   "outputs": [
    {
     "name": "stdout",
     "output_type": "stream",
     "text": [
      "e+A1:AP1ncounter_id             0\n",
      "patient_nbr                     0\n",
      "race                         2273\n",
      "gender                          0\n",
      "age                             0\n",
      "weight                      98569\n",
      "admission_type_id               0\n",
      "discharge_disposition_id        0\n",
      "admission_source_id             0\n",
      "time_in_hospital                0\n",
      "payer_code                  40256\n",
      "medical_specialty           49949\n",
      "num_lab_procedures              0\n",
      "num_procedures                  0\n",
      "num_medications                 0\n",
      "number_outpatient               0\n",
      "number_emergency                0\n",
      "number_inpatient                0\n",
      "diag_1                         21\n",
      "diag_2                        358\n",
      "diag_3                       1423\n",
      "number_diagnoses                0\n",
      "max_glu_serum                   0\n",
      "A1Cresult                       0\n",
      "metformin                       0\n",
      "repaglinide                     0\n",
      "nateglinide                     0\n",
      "chlorpropamide                  0\n",
      "glimepiride                     0\n",
      "acetohexamide                   0\n",
      "glipizide                       0\n",
      "glyburide                       0\n",
      "tolbutamide                     0\n",
      "pioglitazone                    0\n",
      "rosiglitazone                   0\n",
      "acarbose                        0\n",
      "miglitol                        0\n",
      "troglitazone                    0\n",
      "tolazamide                      0\n",
      "examide                         0\n",
      "citoglipton                     0\n",
      "insulin                         0\n",
      "glyburide-metformin             0\n",
      "glipizide-metformin             0\n",
      "glimepiride-pioglitazone        0\n",
      "metformin-rosiglitazone         0\n",
      "metformin-pioglitazone          0\n",
      "change                          0\n",
      "diabetesMed                     0\n",
      "readmitted                      0\n",
      "dtype: int64\n"
     ]
    }
   ],
   "source": [
    "print(diabetes_df.isnull().sum())"
   ],
   "metadata": {
    "collapsed": false,
    "ExecuteTime": {
     "start_time": "2023-06-22T17:01:47.895406Z",
     "end_time": "2023-06-22T17:01:48.206661Z"
    }
   }
  },
  {
   "cell_type": "markdown",
   "source": [
    "### Weight Columns is missing most of the data, so we can remove its column"
   ],
   "metadata": {
    "collapsed": false
   }
  },
  {
   "cell_type": "code",
   "execution_count": 309,
   "outputs": [
    {
     "name": "stdout",
     "output_type": "stream",
     "text": [
      "e+A1:AP1ncounter_id             0\n",
      "patient_nbr                     0\n",
      "race                         2273\n",
      "gender                          0\n",
      "age                             0\n",
      "admission_type_id               0\n",
      "discharge_disposition_id        0\n",
      "admission_source_id             0\n",
      "time_in_hospital                0\n",
      "payer_code                  40256\n",
      "medical_specialty           49949\n",
      "num_lab_procedures              0\n",
      "num_procedures                  0\n",
      "num_medications                 0\n",
      "number_outpatient               0\n",
      "number_emergency                0\n",
      "number_inpatient                0\n",
      "diag_1                         21\n",
      "diag_2                        358\n",
      "diag_3                       1423\n",
      "number_diagnoses                0\n",
      "max_glu_serum                   0\n",
      "A1Cresult                       0\n",
      "metformin                       0\n",
      "repaglinide                     0\n",
      "nateglinide                     0\n",
      "chlorpropamide                  0\n",
      "glimepiride                     0\n",
      "acetohexamide                   0\n",
      "glipizide                       0\n",
      "glyburide                       0\n",
      "tolbutamide                     0\n",
      "pioglitazone                    0\n",
      "rosiglitazone                   0\n",
      "acarbose                        0\n",
      "miglitol                        0\n",
      "troglitazone                    0\n",
      "tolazamide                      0\n",
      "examide                         0\n",
      "citoglipton                     0\n",
      "insulin                         0\n",
      "glyburide-metformin             0\n",
      "glipizide-metformin             0\n",
      "glimepiride-pioglitazone        0\n",
      "metformin-rosiglitazone         0\n",
      "metformin-pioglitazone          0\n",
      "change                          0\n",
      "diabetesMed                     0\n",
      "readmitted                      0\n",
      "dtype: int64\n"
     ]
    }
   ],
   "source": [
    "diabetes_df.drop(['weight'], axis=1, inplace=True)\n",
    "print(diabetes_df.isnull().sum())"
   ],
   "metadata": {
    "collapsed": false,
    "ExecuteTime": {
     "start_time": "2023-06-22T17:01:48.208667Z",
     "end_time": "2023-06-22T17:01:48.549756Z"
    }
   }
  },
  {
   "cell_type": "markdown",
   "source": [
    "### Diag_1 Diag_2 Diag_3 for these columns we can get the average and put it for missing data"
   ],
   "metadata": {
    "collapsed": false
   }
  },
  {
   "cell_type": "code",
   "execution_count": 310,
   "outputs": [
    {
     "name": "stdout",
     "output_type": "stream",
     "text": [
      "e+A1:AP1ncounter_id             0\n",
      "patient_nbr                     0\n",
      "race                         2273\n",
      "gender                          0\n",
      "age                             0\n",
      "admission_type_id               0\n",
      "discharge_disposition_id        0\n",
      "admission_source_id             0\n",
      "time_in_hospital                0\n",
      "payer_code                  40256\n",
      "medical_specialty           49949\n",
      "num_lab_procedures              0\n",
      "num_procedures                  0\n",
      "num_medications                 0\n",
      "number_outpatient               0\n",
      "number_emergency                0\n",
      "number_inpatient                0\n",
      "diag_1                          0\n",
      "diag_2                          0\n",
      "diag_3                          0\n",
      "number_diagnoses                0\n",
      "max_glu_serum                   0\n",
      "A1Cresult                       0\n",
      "metformin                       0\n",
      "repaglinide                     0\n",
      "nateglinide                     0\n",
      "chlorpropamide                  0\n",
      "glimepiride                     0\n",
      "acetohexamide                   0\n",
      "glipizide                       0\n",
      "glyburide                       0\n",
      "tolbutamide                     0\n",
      "pioglitazone                    0\n",
      "rosiglitazone                   0\n",
      "acarbose                        0\n",
      "miglitol                        0\n",
      "troglitazone                    0\n",
      "tolazamide                      0\n",
      "examide                         0\n",
      "citoglipton                     0\n",
      "insulin                         0\n",
      "glyburide-metformin             0\n",
      "glipizide-metformin             0\n",
      "glimepiride-pioglitazone        0\n",
      "metformin-rosiglitazone         0\n",
      "metformin-pioglitazone          0\n",
      "change                          0\n",
      "diabetesMed                     0\n",
      "readmitted                      0\n",
      "dtype: int64\n"
     ]
    }
   ],
   "source": [
    "mode_diag_1 = diabetes_df['diag_1'].mode().values[0]\n",
    "diabetes_df['diag_1'].fillna(mode_diag_1, inplace=True)\n",
    "\n",
    "mode_diag_2 = diabetes_df['diag_2'].mode().values[0]\n",
    "diabetes_df['diag_2'].fillna(mode_diag_2, inplace=True)\n",
    "\n",
    "mode_diag_3 = diabetes_df['diag_3'].mode().values[0]\n",
    "diabetes_df['diag_3'].fillna(mode_diag_3, inplace=True)\n",
    "\n",
    "print(diabetes_df.isnull().sum())"
   ],
   "metadata": {
    "collapsed": false,
    "ExecuteTime": {
     "start_time": "2023-06-22T17:01:48.551758Z",
     "end_time": "2023-06-22T17:01:48.892530Z"
    }
   }
  },
  {
   "cell_type": "markdown",
   "source": [
    "### Medical Specialty, Payer_code, and Race columns are missing half data, the best way to handle the missing data is to assign the most common data for the missing ones"
   ],
   "metadata": {
    "collapsed": false
   }
  },
  {
   "cell_type": "code",
   "execution_count": 311,
   "outputs": [
    {
     "name": "stdout",
     "output_type": "stream",
     "text": [
      "                   medical_specialty  count\n",
      "0                   InternalMedicine  14635\n",
      "1                   Emergency/Trauma   7565\n",
      "2             Family/GeneralPractice   7440\n",
      "3                         Cardiology   5352\n",
      "4                    Surgery-General   3099\n",
      "..                               ...    ...\n",
      "67                      Perinatology      1\n",
      "68                   Neurophysiology      1\n",
      "69              Psychiatry-Addictive      1\n",
      "70     Pediatrics-InfectiousDiseases      1\n",
      "71  Surgery-PlasticwithinHeadandNeck      1\n",
      "\n",
      "[72 rows x 2 columns]\n",
      "e+A1:AP1ncounter_id         0\n",
      "patient_nbr                 0\n",
      "race                        0\n",
      "gender                      0\n",
      "age                         0\n",
      "admission_type_id           0\n",
      "discharge_disposition_id    0\n",
      "admission_source_id         0\n",
      "time_in_hospital            0\n",
      "payer_code                  0\n",
      "medical_specialty           0\n",
      "num_lab_procedures          0\n",
      "num_procedures              0\n",
      "num_medications             0\n",
      "number_outpatient           0\n",
      "number_emergency            0\n",
      "number_inpatient            0\n",
      "diag_1                      0\n",
      "diag_2                      0\n",
      "diag_3                      0\n",
      "number_diagnoses            0\n",
      "max_glu_serum               0\n",
      "A1Cresult                   0\n",
      "metformin                   0\n",
      "repaglinide                 0\n",
      "nateglinide                 0\n",
      "chlorpropamide              0\n",
      "glimepiride                 0\n",
      "acetohexamide               0\n",
      "glipizide                   0\n",
      "glyburide                   0\n",
      "tolbutamide                 0\n",
      "pioglitazone                0\n",
      "rosiglitazone               0\n",
      "acarbose                    0\n",
      "miglitol                    0\n",
      "troglitazone                0\n",
      "tolazamide                  0\n",
      "examide                     0\n",
      "citoglipton                 0\n",
      "insulin                     0\n",
      "glyburide-metformin         0\n",
      "glipizide-metformin         0\n",
      "glimepiride-pioglitazone    0\n",
      "metformin-rosiglitazone     0\n",
      "metformin-pioglitazone      0\n",
      "change                      0\n",
      "diabetesMed                 0\n",
      "readmitted                  0\n",
      "dtype: int64\n"
     ]
    }
   ],
   "source": [
    "# Get the most common data for medical_specialty with ascending sort and number of use\n",
    "sorted_data = diabetes_df['medical_specialty'].value_counts().reset_index()\n",
    "sorted_data.columns = ['medical_specialty', 'count']\n",
    "sorted_data = sorted_data.sort_values('count', ascending=False)\n",
    "\n",
    "print(sorted_data)\n",
    "\n",
    "mode_specialty = diabetes_df['medical_specialty'].mode().values[0]\n",
    "diabetes_df['medical_specialty'].fillna(mode_specialty, inplace=True)\n",
    "\n",
    "mode_race = diabetes_df['race'].mode().values[0]\n",
    "diabetes_df['race'].fillna(mode_race, inplace=True)\n",
    "\n",
    "mode_payer_code = diabetes_df['payer_code'].mode().values[0]\n",
    "diabetes_df['payer_code'].fillna(mode_payer_code, inplace=True)\n",
    "\n",
    "print(diabetes_df.isnull().sum())"
   ],
   "metadata": {
    "collapsed": false,
    "ExecuteTime": {
     "start_time": "2023-06-22T17:01:48.895548Z",
     "end_time": "2023-06-22T17:01:49.238237Z"
    }
   }
  },
  {
   "cell_type": "markdown",
   "source": [
    "### Deleting unnecessary columns"
   ],
   "metadata": {
    "collapsed": false
   }
  },
  {
   "cell_type": "code",
   "execution_count": 312,
   "outputs": [],
   "source": [
    "# print(diabetes_df['readmitted'].unique())\n",
    "columns_to_drop = ['e+A1:AP1ncounter_id', 'patient_nbr', 'medical_specialty', 'admission_source_id', 'payer_code',\n",
    "                'examide', 'citoglipton']\n",
    "diabetes_df = diabetes_df.drop(columns_to_drop, axis=1)"
   ],
   "metadata": {
    "collapsed": false,
    "ExecuteTime": {
     "start_time": "2023-06-22T17:01:49.240754Z",
     "end_time": "2023-06-22T17:01:49.274306Z"
    }
   }
  },
  {
   "cell_type": "code",
   "execution_count": 313,
   "outputs": [],
   "source": [
    "# Replace values in 'readmitted' column\n",
    "diabetes_df['readmitted'] = diabetes_df['readmitted'].replace({'NO': 0, '>30': 0, '<30': 1})"
   ],
   "metadata": {
    "collapsed": false,
    "ExecuteTime": {
     "start_time": "2023-06-22T17:01:49.269791Z",
     "end_time": "2023-06-22T17:01:49.317259Z"
    }
   }
  },
  {
   "cell_type": "markdown",
   "source": [
    "### One-hot on gender column"
   ],
   "metadata": {
    "collapsed": false
   }
  },
  {
   "cell_type": "code",
   "execution_count": 314,
   "outputs": [],
   "source": [
    "# Assuming 'gender' is a categorical column in your 'diabetes_df' dataframe\n",
    "gender_column = diabetes_df['gender']\n",
    "\n",
    "# Perform one-hot encoding using pandas get_dummies()\n",
    "gender_encoded_df = pd.get_dummies(gender_column, prefix='gender')\n",
    "\n",
    "# Drop the original 'gender' column from diabetes_df\n",
    "diabetes_df.drop('gender', axis=1, inplace=True)\n",
    "\n",
    "# Concatenate the one-hot encoded dataframe with the original dataframe\n",
    "diabetes_df = pd.concat([diabetes_df, gender_encoded_df], axis=1)"
   ],
   "metadata": {
    "collapsed": false,
    "ExecuteTime": {
     "start_time": "2023-06-22T17:01:49.319258Z",
     "end_time": "2023-06-22T17:01:49.379263Z"
    }
   }
  },
  {
   "cell_type": "markdown",
   "source": [
    "### One-hot on race column"
   ],
   "metadata": {
    "collapsed": false
   }
  },
  {
   "cell_type": "code",
   "execution_count": 315,
   "outputs": [],
   "source": [
    "# Assuming 'race' is a categorical column in your dataframe\n",
    "race_column = diabetes_df['race']\n",
    "\n",
    "# Perform one-hot encoding using pandas get_dummies()\n",
    "race_encoded_df = pd.get_dummies(race_column, prefix='race')\n",
    "\n",
    "# Drop the original 'race' column from diabetes_df\n",
    "diabetes_df.drop('race', axis=1, inplace=True)\n",
    "\n",
    "# Concatenate the one-hot encoded dataframe with the original dataframe\n",
    "diabetes_df = pd.concat([diabetes_df, race_encoded_df], axis=1)"
   ],
   "metadata": {
    "collapsed": false,
    "ExecuteTime": {
     "start_time": "2023-06-22T17:01:49.380263Z",
     "end_time": "2023-06-22T17:01:49.425141Z"
    }
   }
  },
  {
   "cell_type": "markdown",
   "source": [
    "### One-hot on age column"
   ],
   "metadata": {
    "collapsed": false
   }
  },
  {
   "cell_type": "code",
   "execution_count": 316,
   "outputs": [],
   "source": [
    "diabetes_df['age'] = diabetes_df['age'].replace({\n",
    "    '[0-10)': 10,\n",
    "    '[10-20)': 20,\n",
    "    '[20-30)': 30,\n",
    "    '[30-40)': 40,\n",
    "    '[40-50)': 50,\n",
    "    '[50-60)': 60,\n",
    "    '[60-70)': 70,\n",
    "    '[70-80)': 80,\n",
    "    '[80-90)': 90,\n",
    "    '[90-100)': 100\n",
    "})"
   ],
   "metadata": {
    "collapsed": false,
    "ExecuteTime": {
     "start_time": "2023-06-22T17:01:49.429541Z",
     "end_time": "2023-06-22T17:01:49.469851Z"
    }
   }
  },
  {
   "cell_type": "markdown",
   "source": [
    "### Removing decimal from diag1 to 3 and replace string values (V50) to -1"
   ],
   "metadata": {
    "collapsed": false
   }
  },
  {
   "cell_type": "code",
   "execution_count": 317,
   "outputs": [],
   "source": [
    "diabetes_df['diag_1'] = diabetes_df['diag_1'].apply(lambda x: int(float(x)) if str(x).replace('.', '').isdigit() else -1)\n",
    "diabetes_df['diag_2'] = diabetes_df['diag_2'].apply(lambda x: int(float(x)) if str(x).replace('.', '').isdigit() else -1)\n",
    "diabetes_df['diag_3'] = diabetes_df['diag_3'].apply(lambda x: int(float(x)) if str(x).replace('.', '').isdigit() else -1)"
   ],
   "metadata": {
    "collapsed": false,
    "ExecuteTime": {
     "start_time": "2023-06-22T17:01:49.471852Z",
     "end_time": "2023-06-22T17:01:49.641400Z"
    }
   }
  },
  {
   "cell_type": "markdown",
   "source": [
    "### Change values of max_glu_serum column {'None': 0, '>300': 300, 'Norm': 1, '>200': 200}"
   ],
   "metadata": {
    "collapsed": false
   }
  },
  {
   "cell_type": "code",
   "execution_count": 318,
   "outputs": [],
   "source": [
    "# unique_values = diabetes_df['max_glu_serum'].unique()\n",
    "# print(unique_values)\n",
    "diabetes_df['max_glu_serum'] = diabetes_df['max_glu_serum'].map({'None': 0, '>300': 300, 'Norm': 1, '>200': 200})"
   ],
   "metadata": {
    "collapsed": false,
    "ExecuteTime": {
     "start_time": "2023-06-22T17:01:49.642403Z",
     "end_time": "2023-06-22T17:01:49.674083Z"
    }
   }
  },
  {
   "cell_type": "markdown",
   "source": [
    "### Change values of A1Cresult column {'None': 0, '>300': 300, 'Norm': 1, '>200': 200}"
   ],
   "metadata": {
    "collapsed": false
   }
  },
  {
   "cell_type": "code",
   "execution_count": 319,
   "outputs": [],
   "source": [
    "diabetes_df['A1Cresult'] = diabetes_df['A1Cresult'].map({'None': 0, '>8': 8, 'Norm': 1, '>7': 7})"
   ],
   "metadata": {
    "collapsed": false,
    "ExecuteTime": {
     "start_time": "2023-06-22T17:01:49.675084Z",
     "end_time": "2023-06-22T17:01:49.705499Z"
    }
   }
  },
  {
   "cell_type": "markdown",
   "source": [
    "### Change values of max_glu_serum column {'No': 0, 'Steady': 1, 'Up': 2, 'Down': 3}\n"
   ],
   "metadata": {
    "collapsed": false
   }
  },
  {
   "cell_type": "code",
   "execution_count": 320,
   "outputs": [],
   "source": [
    "diabetes_df['metformin'] = diabetes_df['metformin'].map({'No': 0, 'Steady': 1, 'Up': 2, 'Down': 3})\n",
    "diabetes_df['repaglinide'] = diabetes_df['repaglinide'].map({'No': 0, 'Steady': 1, 'Up': 2, 'Down': 3})\n",
    "diabetes_df['nateglinide'] = diabetes_df['nateglinide'].map({'No': 0, 'Steady': 1, 'Up': 2, 'Down': 3})\n",
    "diabetes_df['chlorpropamide'] = diabetes_df['chlorpropamide'].map({'No': 0, 'Steady': 1, 'Up': 2, 'Down': 3})\n",
    "diabetes_df['glimepiride'] = diabetes_df['glimepiride'].map({'No': 0, 'Steady': 1, 'Up': 2, 'Down': 3})\n",
    "diabetes_df['acetohexamide'] = diabetes_df['acetohexamide'].map({'No': 0, 'Steady': 1, 'Up': 2, 'Down': 3})\n",
    "diabetes_df['glipizide'] = diabetes_df['glipizide'].map({'No': 0, 'Steady': 1, 'Up': 2, 'Down': 3})\n",
    "diabetes_df['glyburide'] = diabetes_df['glyburide'].map({'No': 0, 'Steady': 1, 'Up': 2, 'Down': 3})\n",
    "diabetes_df['tolbutamide'] = diabetes_df['tolbutamide'].map({'No': 0, 'Steady': 1, 'Up': 2, 'Down': 3})\n",
    "diabetes_df['pioglitazone'] = diabetes_df['pioglitazone'].map({'No': 0, 'Steady': 1, 'Up': 2, 'Down': 3})\n",
    "diabetes_df['rosiglitazone'] = diabetes_df['rosiglitazone'].map({'No': 0, 'Steady': 1, 'Up': 2, 'Down': 3})\n",
    "diabetes_df['acarbose'] = diabetes_df['acarbose'].map({'No': 0, 'Steady': 1, 'Up': 2, 'Down': 3})\n",
    "diabetes_df['miglitol'] = diabetes_df['miglitol'].map({'No': 0, 'Steady': 1, 'Up': 2, 'Down': 3})\n",
    "diabetes_df['troglitazone'] = diabetes_df['troglitazone'].map({'No': 0, 'Steady': 1, 'Up': 2, 'Down': 3})\n",
    "diabetes_df['tolazamide'] = diabetes_df['tolazamide'].map({'No': 0, 'Steady': 1, 'Up': 2, 'Down': 3})\n",
    "diabetes_df['insulin'] = diabetes_df['insulin'].map({'No': 0, 'Steady': 1, 'Up': 2, 'Down': 3})\n",
    "diabetes_df['glyburide-metformin'] = diabetes_df['glyburide-metformin'].map({'No': 0, 'Steady': 1, 'Up': 2, 'Down': 3})\n",
    "diabetes_df['metformin-rosiglitazone'] = diabetes_df['metformin-rosiglitazone'].map({'No': 0, 'Steady': 1, 'Up': 2, 'Down': 3})\n",
    "diabetes_df['glipizide-metformin'] = diabetes_df['glipizide-metformin'].map({'No': 0, 'Steady': 1, 'Up': 2, 'Down': 3})\n",
    "diabetes_df['glimepiride-pioglitazone'] = diabetes_df['glimepiride-pioglitazone'].map({'No': 0, 'Steady': 1, 'Up': 2, 'Down': 3})\n",
    "diabetes_df['metformin-pioglitazone'] = diabetes_df['metformin-pioglitazone'].map({'No': 0, 'Steady': 1, 'Up': 2, 'Down': 3})\n",
    "diabetes_df['change'] = diabetes_df['change'].map({'No': 0, 'Ch': 1})\n",
    "diabetes_df['diabetesMed'] = diabetes_df['diabetesMed'].map({'No': 0, 'Yes': 1})\n",
    "\n",
    "# change no ch\n",
    "# diabetesMed no yes\n",
    "# unique_values = diabetes_df['diabetesMed'].unique()\n",
    "# print(unique_values)\n",
    "# diabetes_df.head(200)"
   ],
   "metadata": {
    "collapsed": false,
    "ExecuteTime": {
     "start_time": "2023-06-22T17:01:49.711364Z",
     "end_time": "2023-06-22T17:01:49.924569Z"
    }
   }
  },
  {
   "cell_type": "markdown",
   "source": [
    "### Create decision tree using Scikit-learn"
   ],
   "metadata": {
    "collapsed": false
   }
  },
  {
   "cell_type": "code",
   "execution_count": 321,
   "outputs": [
    {
     "name": "stdout",
     "output_type": "stream",
     "text": [
      "Accuracy Train: 0.8904584090797425\n",
      "Accuracy: 0.8868035766925421\n"
     ]
    }
   ],
   "source": [
    "# Load the dataset\n",
    "X = diabetes_df.drop('readmitted', axis=1)\n",
    "y = diabetes_df['readmitted']\n",
    "\n",
    "# Split the dataset into training and testing sets\n",
    "x_train, x_test, y_train, y_test = train_test_split(X, y, test_size=0.2, random_state=42)\n",
    "\n",
    "# Create a decision tree classifier\n",
    "clf = DecisionTreeClassifier(max_depth=100, max_leaf_nodes=50)\n",
    "\n",
    "# Fit the classifier to the training data\n",
    "clf.fit(x_train, y_train)\n",
    "\n",
    "# Make predictions on the test data\n",
    "y_prediction_train = clf.predict(x_train)\n",
    "y_prediction_test = clf.predict(x_test)\n",
    "\n",
    "# Calculate the accuracy of the model\n",
    "accuracy = accuracy_score(y_train, y_prediction_train)\n",
    "print(\"Accuracy Train:\", accuracy)\n",
    "accuracy = accuracy_score(y_test, y_prediction_test)\n",
    "print(\"Accuracy:\", accuracy)"
   ],
   "metadata": {
    "collapsed": false,
    "ExecuteTime": {
     "start_time": "2023-06-22T17:01:49.942224Z",
     "end_time": "2023-06-22T17:01:50.357900Z"
    }
   }
  },
  {
   "cell_type": "markdown",
   "source": [
    "### Create random forest using Scikit-learn"
   ],
   "metadata": {
    "collapsed": false
   }
  },
  {
   "cell_type": "code",
   "execution_count": 322,
   "outputs": [
    {
     "name": "stdout",
     "output_type": "stream",
     "text": [
      "Accuracy Train: 0.8885667960497224\n",
      "Accuracy Test: 0.887737054141692\n"
     ]
    }
   ],
   "source": [
    "# Creating a Random Forest classifier\n",
    "rf_classifier = RandomForestClassifier(n_estimators=100, max_depth=100, max_leaf_nodes=50)\n",
    "\n",
    "# Fitting the model on the training data\n",
    "rf_classifier.fit(x_train, y_train)\n",
    "\n",
    "# Predicting on the test data\n",
    "y_prediction_train = rf_classifier.predict(x_train)\n",
    "y_prediction_test = rf_classifier.predict(x_test)\n",
    "\n",
    "# Evaluating the model\n",
    "accuracy = accuracy_score(y_train, y_prediction_train)\n",
    "print(\"Accuracy Train:\", accuracy)\n",
    "accuracy = accuracy_score(y_test, y_prediction_test)\n",
    "print(\"Accuracy Test:\", accuracy)\n"
   ],
   "metadata": {
    "collapsed": false,
    "ExecuteTime": {
     "start_time": "2023-06-22T17:01:50.361427Z",
     "end_time": "2023-06-22T17:01:53.803158Z"
    }
   }
  }
 ],
 "metadata": {
  "kernelspec": {
   "display_name": "Python 3",
   "language": "python",
   "name": "python3"
  },
  "language_info": {
   "codemirror_mode": {
    "name": "ipython",
    "version": 2
   },
   "file_extension": ".py",
   "mimetype": "text/x-python",
   "name": "python",
   "nbconvert_exporter": "python",
   "pygments_lexer": "ipython2",
   "version": "2.7.6"
  }
 },
 "nbformat": 4,
 "nbformat_minor": 0
}
